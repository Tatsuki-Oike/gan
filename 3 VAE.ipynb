{
 "cells": [
  {
   "cell_type": "markdown",
   "metadata": {
    "id": "eBD0ncPadivY"
   },
   "source": [
    "# 準備"
   ]
  },
  {
   "cell_type": "code",
   "execution_count": null,
   "metadata": {
    "colab": {
     "base_uri": "https://localhost:8080/"
    },
    "executionInfo": {
     "elapsed": 4544,
     "status": "ok",
     "timestamp": 1612062623334,
     "user": {
      "displayName": "毛利拓也",
      "photoUrl": "",
      "userId": "17854120745961292401"
     },
     "user_tz": -540
    },
    "id": "jL5VE0SKd-C5",
    "outputId": "f7f66498-24e7-42d7-b95b-574b0ca9156e"
   },
   "outputs": [
    {
     "name": "stdout",
     "output_type": "stream",
     "text": [
      "1.7.0+cu101\n",
      "0.8.1+cu101\n"
     ]
    }
   ],
   "source": [
    "# バージョン指定時にコメントアウト\n",
    "#!pip install torch==1.7.0\n",
    "#!pip install torchvision==0.8.1\n",
    "\n",
    "import torch\n",
    "import torchvision\n",
    "# バージョンの確認\n",
    "print(torch.__version__) \n",
    "print(torchvision.__version__) "
   ]
  },
  {
   "cell_type": "code",
   "execution_count": null,
   "metadata": {
    "colab": {
     "base_uri": "https://localhost:8080/"
    },
    "executionInfo": {
     "elapsed": 30705,
     "status": "ok",
     "timestamp": 1612062604767,
     "user": {
      "displayName": "毛利拓也",
      "photoUrl": "",
      "userId": "17854120745961292401"
     },
     "user_tz": -540
    },
    "id": "NxE4LdILNbZj",
    "outputId": "0d66900e-4380-4153-e2da-9de695e5aed8"
   },
   "outputs": [
    {
     "name": "stdout",
     "output_type": "stream",
     "text": [
      "Mounted at /content/gdrive\n"
     ]
    }
   ],
   "source": [
    "# Google ドライブにマウント\n",
    "from google.colab import drive\n",
    "drive.mount('/content/gdrive')"
   ]
  },
  {
   "cell_type": "code",
   "execution_count": null,
   "metadata": {
    "colab": {
     "base_uri": "https://localhost:8080/"
    },
    "executionInfo": {
     "elapsed": 936,
     "status": "ok",
     "timestamp": 1612062682367,
     "user": {
      "displayName": "毛利拓也",
      "photoUrl": "",
      "userId": "17854120745961292401"
     },
     "user_tz": -540
    },
    "id": "8VHKwwpxDTNi",
    "outputId": "fe5b7f7b-e214-4767-8dad-2e6fc2cf83c2"
   },
   "outputs": [
    {
     "name": "stdout",
     "output_type": "stream",
     "text": [
      "/content/gdrive/MyDrive/Colab Notebooks/gan_sample/chapter2\n"
     ]
    }
   ],
   "source": [
    "%cd '/content/gdrive/MyDrive/Colab Notebooks/gan_sample/chapter2'"
   ]
  },
  {
   "cell_type": "code",
   "execution_count": null,
   "metadata": {
    "id": "L623S184SXZY"
   },
   "outputs": [],
   "source": [
    "import os\n",
    "import numpy as np\n",
    "import torch\n",
    "import torch.nn as nn\n",
    "import torch.optim as optimizers\n",
    "import torch.nn.functional as F\n",
    "from torch.utils.data import Dataset, DataLoader\n",
    "import torchvision\n",
    "import torchvision.transforms as transforms\n",
    "import matplotlib\n",
    "import matplotlib.pyplot as plt\n",
    "%matplotlib inline"
   ]
  },
  {
   "cell_type": "markdown",
   "metadata": {
    "id": "5fuAvGPhdmj6"
   },
   "source": [
    "# データセットの作成"
   ]
  },
  {
   "cell_type": "code",
   "execution_count": null,
   "metadata": {
    "id": "CQyvTIlm4FxF"
   },
   "outputs": [],
   "source": [
    "np.random.seed(1234)\n",
    "torch.manual_seed(1234)\n",
    "device = torch.device('cuda' if torch.cuda.is_available() else 'cpu')\n",
    "\n",
    "# データの取得\n",
    "root = os.path.join('data', 'mnist')\n",
    "transform = transforms.Compose([transforms.ToTensor(),\n",
    "                                lambda x: x.view(-1)])\n",
    "mnist_train = \\\n",
    "    torchvision.datasets.MNIST(root=root,\n",
    "                                      download=True,\n",
    "                                      train=True,\n",
    "                                      transform=transform)\n",
    "mnist_test = \\\n",
    "    torchvision.datasets.MNIST(root=root,\n",
    "                                      download=True,\n",
    "                                      train=False,\n",
    "                                      transform=transform)\n",
    "train_dataloader = DataLoader(mnist_train,\n",
    "                              batch_size=100,\n",
    "                              shuffle=True)\n",
    "test_dataloader = DataLoader(mnist_test,\n",
    "                              batch_size=100,\n",
    "                              shuffle=False)"
   ]
  },
  {
   "cell_type": "markdown",
   "metadata": {
    "id": "NitCK2XPdxHn"
   },
   "source": [
    "# ネットワークの定義"
   ]
  },
  {
   "cell_type": "code",
   "execution_count": null,
   "metadata": {
    "id": "dA_tk-_irjTD"
   },
   "outputs": [],
   "source": [
    "class VAE(nn.Module):\n",
    "    def __init__(self, device='cpu'):\n",
    "        super().__init__()\n",
    "        self.device = device\n",
    "        self.encoder = Encoder(device=device)\n",
    "        self.decoder = Decoder(device=device)\n",
    "\n",
    "    def forward(self, x):\n",
    "        # エンコーダ\n",
    "        mean, var = self.encoder(x)\n",
    "        # 潜在変数の作成\n",
    "        z = self.reparameterize(mean, var)\n",
    "        # デコーダ\n",
    "        y = self.decoder(z)\n",
    "        #生成画像yと潜在変数zが返り値\n",
    "        return y, z\n",
    "\n",
    "    # 潜在変数zの作成\n",
    "    def reparameterize(self, mean, var):\n",
    "        # 標準正規分布の作成\n",
    "        eps = torch.randn(mean.size()).to(self.device)\n",
    "        # 再パラメータ化トリック\n",
    "        z = mean + torch.sqrt(var) * eps\n",
    "        return z\n",
    "\n",
    "    # 誤差の計算\n",
    "    def lower_bound(self, x):\n",
    "        # 平均と分散のベクトルを計算\n",
    "        mean, var = self.encoder(x)\n",
    "        # 平均と分散から潜在変数zを作成\n",
    "        z = self.reparameterize(mean, var)\n",
    "        # 潜在変数zから生成画像を作成\n",
    "        y = self.decoder(z)\n",
    "        # 再構成誤差\n",
    "        reconst =  - torch.mean(torch.sum(x * torch.log(y)\n",
    "                                       + (1 - x) * torch.log(1 - y),\n",
    "                                       dim=1))\n",
    "        # 正則化\n",
    "        kl = - 1/2 * torch.mean(torch.sum(1\n",
    "                                          + torch.log(var)\n",
    "                                          - mean**2\n",
    "                                          - var, dim=1))\n",
    "        # 再構成誤差 + 正則化\n",
    "        L =  reconst + kl\n",
    "\n",
    "        return L"
   ]
  },
  {
   "cell_type": "code",
   "execution_count": null,
   "metadata": {
    "id": "SJuEnFACrj6-"
   },
   "outputs": [],
   "source": [
    "class Encoder(nn.Module):\n",
    "    def __init__(self, device='cpu'):\n",
    "        super().__init__()\n",
    "        self.device = device\n",
    "        self.l1 = nn.Linear(784, 200)\n",
    "        self.l_mean = nn.Linear(200, 10)\n",
    "        self.l_var = nn.Linear(200, 10)\n",
    "\n",
    "    def forward(self, x):\n",
    "        # 784次元から200次元\n",
    "        h = self.l1(x)\n",
    "        # 活性化関数\n",
    "        h = torch.relu(h)\n",
    "        # 200次元から10次元の平均\n",
    "        mean = self.l_mean(h)\n",
    "        # 200次元から10次元の分散\n",
    "        var = self.l_var(h)\n",
    "        # 活性化関数softplus\n",
    "        var = F.softplus(var)\n",
    "\n",
    "        return mean, var"
   ]
  },
  {
   "cell_type": "code",
   "execution_count": null,
   "metadata": {
    "id": "1quawG01ad8-"
   },
   "outputs": [],
   "source": [
    "class Decoder(nn.Module):\n",
    "    def __init__(self, device='cpu'):\n",
    "        super().__init__()\n",
    "        self.device = device\n",
    "        self.l1 = nn.Linear(10, 200)\n",
    "        self.out = nn.Linear(200, 784)\n",
    "\n",
    "    def forward(self, x):\n",
    "        # 10次元から200次元\n",
    "        h = self.l1(x)\n",
    "        # 活性化関数\n",
    "        h = torch.relu(h)\n",
    "        # 200次元から784次元\n",
    "        h = self.out(h)\n",
    "        # シグモイド関数\n",
    "        y = torch.sigmoid(h)\n",
    "\n",
    "        return y"
   ]
  },
  {
   "cell_type": "markdown",
   "metadata": {
    "id": "5QEOLrEKd6TH"
   },
   "source": [
    "# 学習の実行"
   ]
  },
  {
   "cell_type": "code",
   "execution_count": null,
   "metadata": {
    "id": "O516fQFlr6Zk"
   },
   "outputs": [],
   "source": [
    "# モデルの設定\n",
    "model = VAE(device=device).to(device)\n",
    "# 損失関数の設定\n",
    "criterion = model.lower_bound\n",
    "# 最適化関数の設定\n",
    "optimizer = optimizers.Adam(model.parameters())"
   ]
  },
  {
   "cell_type": "code",
   "execution_count": null,
   "metadata": {
    "colab": {
     "base_uri": "https://localhost:8080/"
    },
    "executionInfo": {
     "elapsed": 726,
     "status": "ok",
     "timestamp": 1612062787791,
     "user": {
      "displayName": "毛利拓也",
      "photoUrl": "",
      "userId": "17854120745961292401"
     },
     "user_tz": -540
    },
    "id": "uXfOZrJXUSLV",
    "outputId": "f3a7eb8a-ea1b-4532-fee6-8dd698d7951e"
   },
   "outputs": [
    {
     "name": "stdout",
     "output_type": "stream",
     "text": [
      "VAE(\n",
      "  (encoder): Encoder(\n",
      "    (l1): Linear(in_features=784, out_features=200, bias=True)\n",
      "    (l_mean): Linear(in_features=200, out_features=10, bias=True)\n",
      "    (l_var): Linear(in_features=200, out_features=10, bias=True)\n",
      "  )\n",
      "  (decoder): Decoder(\n",
      "    (l1): Linear(in_features=10, out_features=200, bias=True)\n",
      "    (out): Linear(in_features=200, out_features=784, bias=True)\n",
      "  )\n",
      ")\n"
     ]
    }
   ],
   "source": [
    "print(model)"
   ]
  },
  {
   "cell_type": "code",
   "execution_count": null,
   "metadata": {
    "colab": {
     "base_uri": "https://localhost:8080/"
    },
    "executionInfo": {
     "elapsed": 62744,
     "status": "ok",
     "timestamp": 1612062893017,
     "user": {
      "displayName": "毛利拓也",
      "photoUrl": "",
      "userId": "17854120745961292401"
     },
     "user_tz": -540
    },
    "id": "f2rmOxP8sNVL",
    "outputId": "716c21e9-7608-4ff3-c715-4160973e002a"
   },
   "outputs": [
    {
     "name": "stdout",
     "output_type": "stream",
     "text": [
      "Epoch: 1, Loss: 170.045\n",
      "Epoch: 2, Loss: 129.957\n",
      "Epoch: 3, Loss: 123.960\n",
      "Epoch: 4, Loss: 120.843\n",
      "Epoch: 5, Loss: 118.859\n",
      "Epoch: 6, Loss: 117.465\n",
      "Epoch: 7, Loss: 116.465\n",
      "Epoch: 8, Loss: 115.654\n",
      "Epoch: 9, Loss: 114.984\n",
      "Epoch: 10, Loss: 114.457\n"
     ]
    }
   ],
   "source": [
    "epochs = 10\n",
    "# エポックのループ\n",
    "for epoch in range(epochs):\n",
    "    train_loss = 0.\n",
    "    # バッチサイズのループ\n",
    "    for (x, _) in train_dataloader:\n",
    "        x = x.to(device)\n",
    "        # 訓練モードへの切替        \n",
    "        model.train()\n",
    "        # 本物画像と生成画像の誤差計算\n",
    "        loss = criterion(x)\n",
    "        # 勾配の初期化\n",
    "        optimizer.zero_grad()\n",
    "        # 誤差の勾配計算\n",
    "        loss.backward()\n",
    "        # パラメータの更新        \n",
    "        optimizer.step()\n",
    "        # 訓練誤差の更新\n",
    "        train_loss += loss.item()\n",
    "\n",
    "    train_loss /= len(train_dataloader)\n",
    "\n",
    "    print('Epoch: {}, Loss: {:.3f}'.format(\n",
    "        epoch+1,\n",
    "        train_loss\n",
    "    ))"
   ]
  },
  {
   "cell_type": "markdown",
   "metadata": {
    "id": "CohCKjpSeZjR"
   },
   "source": [
    "# 画像の生成"
   ]
  },
  {
   "cell_type": "code",
   "execution_count": null,
   "metadata": {
    "colab": {
     "base_uri": "https://localhost:8080/",
     "height": 251
    },
    "executionInfo": {
     "elapsed": 1172,
     "status": "ok",
     "timestamp": 1612062898866,
     "user": {
      "displayName": "毛利拓也",
      "photoUrl": "",
      "userId": "17854120745961292401"
     },
     "user_tz": -540
    },
    "id": "QRnNXHY8LLc1",
    "outputId": "f08caa70-8276-4847-fc7a-cf2ae96fdf02"
   },
   "outputs": [
    {
     "data": {
      "image/png": "[encoded data removed]",
      "text/plain": [
       "<Figure size 432x288 with 8 Axes>"
      ]
     },
     "metadata": {
      "needs_background": "light",
      "tags": []
     },
     "output_type": "display_data"
    }
   ],
   "source": [
    "# ノイズの作成数\n",
    "batch_size=8\n",
    "# デコーダ入力用に標準正規分布に従う10次元のノイズを作成\n",
    "z = torch.randn(batch_size, 10, device = device)\n",
    "\n",
    "# 評価モードへの切替 \n",
    "model.eval()\n",
    "# デコーダにノイズzを入力\n",
    "images = model.decoder(z)\n",
    "images = images.view(-1, 28, 28)\n",
    "images = images.squeeze().detach().cpu().numpy()\n",
    "\n",
    "for i, image in enumerate(images):\n",
    "    plt.subplot(2, 4, i+1)\n",
    "    plt.imshow(image, cmap='binary_r')\n",
    "    plt.axis('off')\n",
    "plt.tight_layout()\n",
    "plt.show()"
   ]
  },
  {
   "cell_type": "code",
   "execution_count": null,
   "metadata": {
    "colab": {
     "base_uri": "https://localhost:8080/",
     "height": 197
    },
    "executionInfo": {
     "elapsed": 1918,
     "status": "ok",
     "timestamp": 1612062919506,
     "user": {
      "displayName": "毛利拓也",
      "photoUrl": "",
      "userId": "17854120745961292401"
     },
     "user_tz": -540
    },
    "id": "X-5zaFyG5Apm",
    "outputId": "fdf41668-bf37-46a5-c52b-316bee6175af"
   },
   "outputs": [
    {
     "data": {
      "image/png": "[encoded data removed]",
      "text/plain": [
       "<Figure size 720x216 with 30 Axes>"
      ]
     },
     "metadata": {
      "tags": []
     },
     "output_type": "display_data"
    }
   ],
   "source": [
    "fig = plt.figure(figsize=(10, 3))\n",
    "model.eval()\n",
    "for x, t in test_dataloader:\n",
    "    # 本物画像\n",
    "    for i, im in enumerate(x.view(-1, 28, 28).detach().numpy()[:10]):\n",
    "      ax = fig.add_subplot(3, 10, i+1, xticks=[], yticks=[])\n",
    "      ax.imshow(im, 'gray')\n",
    "    x = x.to(device)\n",
    "    # 本物画像から生成画像\n",
    "    y, z = model(x)\n",
    "    y = y.view(-1, 28, 28)\n",
    "    for i, im in enumerate(y.cpu().detach().numpy()[:10]):\n",
    "      ax = fig.add_subplot(3, 10, i+11, xticks=[], yticks=[])\n",
    "      ax.imshow(im, 'gray')\n",
    "    # 1つ目の画像と2つ目の画像の潜在変数を連続的に変化\n",
    "    z1to0 = torch.cat([z[1] * (i * 0.1) + z[0] * ((9 - i) * 0.1) for i in range(10)]).reshape(10,10)\n",
    "    y2 = model.decoder(z1to0).view(-1, 28, 28)\n",
    "    for i, im in enumerate(y2.cpu().detach().numpy()):\n",
    "      ax = fig.add_subplot(3, 10, i+21, xticks=[], yticks=[])\n",
    "      ax.imshow(im, 'gray')\n",
    "    break"
   ]
  }
 ],
 "metadata": {
  "accelerator": "GPU",
  "colab": {
   "collapsed_sections": [],
   "name": "section2_2-VAE.ipynb",
   "provenance": [],
   "toc_visible": true
  },
  "kernelspec": {
   "display_name": "Python 3",
   "language": "python",
   "name": "python3"
  },
  "language_info": {
   "codemirror_mode": {
    "name": "ipython",
    "version": 3
   },
   "file_extension": ".py",
   "mimetype": "text/x-python",
   "name": "python",
   "nbconvert_exporter": "python",
   "pygments_lexer": "ipython3",
   "version": "3.8.5"
  }
 },
 "nbformat": 4,
 "nbformat_minor": 1
}
